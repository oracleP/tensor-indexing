{
  "nbformat": 4,
  "nbformat_minor": 0,
  "metadata": {
    "colab": {
      "provenance": []
    },
    "kernelspec": {
      "name": "python3",
      "display_name": "Python 3"
    },
    "language_info": {
      "name": "python"
    }
  },
  "cells": [
    {
      "cell_type": "code",
      "execution_count": 1,
      "metadata": {
        "id": "ZwfKUPX1AlXB"
      },
      "outputs": [],
      "source": [
        "# tensor manupulation\n",
        "# .reshaping\n",
        "# .slicing\n",
        "# .joining or spitting\n",
        "# .transposing and permuatation\n",
        "# .transposing and permuting dimension"
      ]
    },
    {
      "cell_type": "markdown",
      "source": [
        "# tensor manupulation\n",
        "# .reshaping\n",
        "# .slicing\n",
        "# .joining or spitting\n",
        "# .transposing and permuatation\n",
        "# .transposing and permuting dimension"
      ],
      "metadata": {
        "id": "PnYmSx-DFlvV"
      }
    },
    {
      "cell_type": "code",
      "source": [
        "# reshaping tensors\n",
        "#reshape'\n",
        "# view\n",
        "import torch"
      ],
      "metadata": {
        "id": "rYipWC2SFp73"
      },
      "execution_count": 2,
      "outputs": []
    },
    {
      "cell_type": "code",
      "source": [
        "original_tensor=torch.arange(12)\n",
        "print(original_tensor)\n",
        "print(original_tensor.nelement())\n",
        "print(original_tensor.ndim)"
      ],
      "metadata": {
        "id": "xcC4mUIRGHw3",
        "colab": {
          "base_uri": "https://localhost:8080/"
        },
        "outputId": "69a96c16-2b8c-47b0-973c-6b5fcf6fad6a"
      },
      "execution_count": 3,
      "outputs": [
        {
          "output_type": "stream",
          "name": "stdout",
          "text": [
            "tensor([ 0,  1,  2,  3,  4,  5,  6,  7,  8,  9, 10, 11])\n",
            "12\n",
            "1\n"
          ]
        }
      ]
    },
    {
      "cell_type": "code",
      "source": [
        "reshape_tensor=original_tensor.reshape(2,6)\n",
        "print(reshape_tensor)\n",
        "print(reshape_tensor.ndim)"
      ],
      "metadata": {
        "colab": {
          "base_uri": "https://localhost:8080/"
        },
        "id": "cBDdm3mPHWbC",
        "outputId": "399ae961-d632-460f-8b7e-f66864e56768"
      },
      "execution_count": 4,
      "outputs": [
        {
          "output_type": "stream",
          "name": "stdout",
          "text": [
            "tensor([[ 0,  1,  2,  3,  4,  5],\n",
            "        [ 6,  7,  8,  9, 10, 11]])\n",
            "2\n"
          ]
        }
      ]
    },
    {
      "cell_type": "code",
      "source": [
        "flattened_tensor=original_tensor.view(-1)\n",
        "print(flattened_tensor)\n",
        "print(flattened_tensor.ndim)"
      ],
      "metadata": {
        "colab": {
          "base_uri": "https://localhost:8080/"
        },
        "id": "J469aXjwH2G3",
        "outputId": "6b89b7ca-b02e-4b8d-8fff-2f9e2a5ff72f"
      },
      "execution_count": 5,
      "outputs": [
        {
          "output_type": "stream",
          "name": "stdout",
          "text": [
            "tensor([ 0,  1,  2,  3,  4,  5,  6,  7,  8,  9, 10, 11])\n",
            "1\n"
          ]
        }
      ]
    },
    {
      "cell_type": "markdown",
      "source": [
        "## sliccing"
      ],
      "metadata": {
        "id": "z7EYe3mSKCPu"
      }
    },
    {
      "cell_type": "code",
      "source": [
        "tensor_a=torch.tensor([[1,2,3],[4,5,6],[7,8,9]])\n",
        "print(tensor_a)\n",
        "print(tensor_a.ndim)"
      ],
      "metadata": {
        "id": "zbQ9ay9cKwm0",
        "colab": {
          "base_uri": "https://localhost:8080/"
        },
        "outputId": "bd4159fa-172e-4e4d-f42f-9adc7389b465"
      },
      "execution_count": 8,
      "outputs": [
        {
          "output_type": "stream",
          "name": "stdout",
          "text": [
            "tensor([[1, 2, 3],\n",
            "        [4, 5, 6],\n",
            "        [7, 8, 9]])\n",
            "2\n"
          ]
        }
      ]
    },
    {
      "cell_type": "code",
      "source": [
        "print(tensor_a[0])"
      ],
      "metadata": {
        "colab": {
          "base_uri": "https://localhost:8080/"
        },
        "id": "bOaVUhUuuhvg",
        "outputId": "2e84ce78-19db-4f0f-c6f2-5020adec70ee"
      },
      "execution_count": 9,
      "outputs": [
        {
          "output_type": "stream",
          "name": "stdout",
          "text": [
            "tensor([1, 2, 3])\n"
          ]
        }
      ]
    },
    {
      "cell_type": "code",
      "source": [
        "print(tensor_a.shape)"
      ],
      "metadata": {
        "colab": {
          "base_uri": "https://localhost:8080/"
        },
        "id": "N4l-dkCMvSu1",
        "outputId": "baad50fd-a3fd-4955-db3d-346d47cd3730"
      },
      "execution_count": 10,
      "outputs": [
        {
          "output_type": "stream",
          "name": "stdout",
          "text": [
            "torch.Size([3, 3])\n"
          ]
        }
      ]
    },
    {
      "cell_type": "code",
      "source": [
        "sub_tensor=(tensor_a[1:,1:])\n",
        "print(sub_tensor)"
      ],
      "metadata": {
        "colab": {
          "base_uri": "https://localhost:8080/"
        },
        "id": "bq6opO4wvBg6",
        "outputId": "cb4995bc-0cd1-4f72-e46f-8d43b186e7fe"
      },
      "execution_count": 11,
      "outputs": [
        {
          "output_type": "stream",
          "name": "stdout",
          "text": [
            "tensor([[5, 6],\n",
            "        [8, 9]])\n"
          ]
        }
      ]
    },
    {
      "cell_type": "markdown",
      "source": [
        "## Joining tensor"
      ],
      "metadata": {
        "id": "r-yoyYE6vm7N"
      }
    },
    {
      "cell_type": "code",
      "source": [
        "# torch concatenation-> it means merge of two rows and column\n",
        "tensor1=torch.tensor([[1,2],[3,4]])\n",
        "tensor2=torch.tensor([[3,4],[5,6]])\n",
        "\n",
        "concat_tensor_rows=torch.cat((tensor1,tensor2),dim=0)\n",
        "concat_tensor_columns=torch.cat((tensor1,tensor2),dim=1)\n",
        "\n",
        "print(tensor1)\n",
        "print(tensor2)\n",
        "print(concat_tensor_rows)\n",
        "print(concat_tensor_columns)"
      ],
      "metadata": {
        "colab": {
          "base_uri": "https://localhost:8080/"
        },
        "id": "NIAedhHfvpzc",
        "outputId": "dfc94670-ed39-466f-9ceb-1a0c7a5b195a"
      },
      "execution_count": 12,
      "outputs": [
        {
          "output_type": "stream",
          "name": "stdout",
          "text": [
            "tensor([[1, 2],\n",
            "        [3, 4]])\n",
            "tensor([[3, 4],\n",
            "        [5, 6]])\n",
            "tensor([[1, 2],\n",
            "        [3, 4],\n",
            "        [3, 4],\n",
            "        [5, 6]])\n",
            "tensor([[1, 2, 3, 4],\n",
            "        [3, 4, 5, 6]])\n"
          ]
        }
      ]
    },
    {
      "cell_type": "markdown",
      "source": [],
      "metadata": {
        "id": "_QpYyAxyz7p-"
      }
    },
    {
      "cell_type": "code",
      "source": [],
      "metadata": {
        "id": "MDu6v1BPxlWQ"
      },
      "execution_count": null,
      "outputs": []
    },
    {
      "cell_type": "markdown",
      "source": [
        "# splitting tensor\n"
      ],
      "metadata": {
        "id": "UDQz6J0_z9Bi"
      }
    },
    {
      "cell_type": "markdown",
      "source": [
        "*torch_chunks()->=divides into equal sides chunks\n",
        "*chunks=torch.chunk(original_tensor,3,dim=0)"
      ],
      "metadata": {
        "id": "MXrcAlGNFdpW"
      }
    },
    {
      "cell_type": "code",
      "source": [
        "\n",
        "original_tensor=torch.arange(12)\n",
        "print(original_tensor)\n",
        "chunks=torch.chunk(original_tensor,4,dim=0)\n",
        "print(chunks)\n",
        "for chunks in chunks:\n",
        "  print(chunks)"
      ],
      "metadata": {
        "colab": {
          "base_uri": "https://localhost:8080/"
        },
        "id": "WGetusK70BfU",
        "outputId": "6a0de645-c820-4669-ad87-98a425adfec4"
      },
      "execution_count": 18,
      "outputs": [
        {
          "output_type": "stream",
          "name": "stdout",
          "text": [
            "tensor([ 0,  1,  2,  3,  4,  5,  6,  7,  8,  9, 10, 11])\n",
            "(tensor([0, 1, 2]), tensor([3, 4, 5]), tensor([6, 7, 8]), tensor([ 9, 10, 11]))\n",
            "tensor([0, 1, 2])\n",
            "tensor([3, 4, 5])\n",
            "tensor([6, 7, 8])\n",
            "tensor([ 9, 10, 11])\n"
          ]
        }
      ]
    },
    {
      "cell_type": "code",
      "source": [
        "splits=torch.split(original_tensor,4,dim=0)\n",
        "print(splits)\n",
        "for splits in splits:\n",
        "  print(splits)"
      ],
      "metadata": {
        "colab": {
          "base_uri": "https://localhost:8080/"
        },
        "id": "8gjkh-xdGBbN",
        "outputId": "8b775698-3361-41a4-e7b9-20bcf420ff50"
      },
      "execution_count": 21,
      "outputs": [
        {
          "output_type": "stream",
          "name": "stdout",
          "text": [
            "(tensor([0, 1, 2, 3]), tensor([4, 5, 6, 7]), tensor([ 8,  9, 10, 11]))\n",
            "tensor([0, 1, 2, 3])\n",
            "tensor([4, 5, 6, 7])\n",
            "tensor([ 8,  9, 10, 11])\n"
          ]
        }
      ]
    },
    {
      "cell_type": "markdown",
      "source": [
        "# transposing and premuting\n",
        "permuat()-->rearranges all dimensions in the specified order\n",
        "\n",
        "\n",
        "--transposing()-->swaps two dimension,mxn-->nxm"
      ],
      "metadata": {
        "id": "9xLf_ZOqHdUh"
      }
    },
    {
      "cell_type": "code",
      "source": [
        "tensor_original=torch.arange(24).reshape(12,2)\n",
        "\n",
        "transposed_tensor=tensor_original.transpose(0,1)\n",
        "print(tensor_original)\n",
        "print(tensor_original.shape)\n",
        "print(transposed_tensor)\n",
        "print(transposed_tensor.shape)"
      ],
      "metadata": {
        "colab": {
          "base_uri": "https://localhost:8080/"
        },
        "id": "NSZBVejeHPnX",
        "outputId": "cea893a7-322f-41ba-c514-a4ba9faa3faa"
      },
      "execution_count": 24,
      "outputs": [
        {
          "output_type": "stream",
          "name": "stdout",
          "text": [
            "tensor([[ 0,  1],\n",
            "        [ 2,  3],\n",
            "        [ 4,  5],\n",
            "        [ 6,  7],\n",
            "        [ 8,  9],\n",
            "        [10, 11],\n",
            "        [12, 13],\n",
            "        [14, 15],\n",
            "        [16, 17],\n",
            "        [18, 19],\n",
            "        [20, 21],\n",
            "        [22, 23]])\n",
            "torch.Size([12, 2])\n",
            "tensor([[ 0,  2,  4,  6,  8, 10, 12, 14, 16, 18, 20, 22],\n",
            "        [ 1,  3,  5,  7,  9, 11, 13, 15, 17, 19, 21, 23]])\n",
            "torch.Size([2, 12])\n"
          ]
        }
      ]
    },
    {
      "cell_type": "code",
      "source": [
        "tensor_original=torch.arange(24).reshape(2,3,4) #2 tensor of 3 rows and 4 column\n",
        "print(2*3*4)\n",
        "print(tensor_original)\n",
        "print(tensor_original.shape)\n",
        "permute_tensor=tensor_original.permute(2,0,1) # HERE [2,0,1] FOR permute the tensor\n",
        "print(permute_tensor)\n",
        "print(permute_tensor.shape)"
      ],
      "metadata": {
        "colab": {
          "base_uri": "https://localhost:8080/"
        },
        "id": "uGbnw34UKJLx",
        "outputId": "4ee91288-c491-4728-bc6c-2b07a82721e8"
      },
      "execution_count": 29,
      "outputs": [
        {
          "output_type": "stream",
          "name": "stdout",
          "text": [
            "24\n",
            "tensor([[[ 0,  1,  2,  3],\n",
            "         [ 4,  5,  6,  7],\n",
            "         [ 8,  9, 10, 11]],\n",
            "\n",
            "        [[12, 13, 14, 15],\n",
            "         [16, 17, 18, 19],\n",
            "         [20, 21, 22, 23]]])\n",
            "torch.Size([2, 3, 4])\n",
            "tensor([[[ 0,  4,  8],\n",
            "         [12, 16, 20]],\n",
            "\n",
            "        [[ 1,  5,  9],\n",
            "         [13, 17, 21]],\n",
            "\n",
            "        [[ 2,  6, 10],\n",
            "         [14, 18, 22]],\n",
            "\n",
            "        [[ 3,  7, 11],\n",
            "         [15, 19, 23]]])\n",
            "torch.Size([4, 2, 3])\n"
          ]
        }
      ]
    },
    {
      "cell_type": "markdown",
      "source": [
        "# detaching and cloning"
      ],
      "metadata": {
        "id": "wSj2oar9MRda"
      }
    },
    {
      "cell_type": "code",
      "source": [],
      "metadata": {
        "id": "E68YwZhAK9FR"
      },
      "execution_count": null,
      "outputs": []
    }
  ]
}