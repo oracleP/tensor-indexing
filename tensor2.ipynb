{
  "nbformat": 4,
  "nbformat_minor": 0,
  "metadata": {
    "colab": {
      "provenance": []
    },
    "kernelspec": {
      "name": "python3",
      "display_name": "Python 3"
    },
    "language_info": {
      "name": "python"
    }
  },
  "cells": [
    {
      "cell_type": "code",
      "execution_count": 4,
      "metadata": {
        "id": "IfJyfKZVqYcb"
      },
      "outputs": [],
      "source": [
        "# ACCESSING ELEMENT IN A TENSOR\n",
        "'''\n",
        "TENSOR[row,column]\n",
        "'''\n",
        "import torch"
      ]
    },
    {
      "cell_type": "markdown",
      "source": [
        "Indexing\n"
      ],
      "metadata": {
        "id": "KnOsVAvPsyeL"
      }
    },
    {
      "cell_type": "code",
      "source": [
        "tensor=torch.tensor([[10,20,30],\n",
        " [40,50,60],\n",
        "  [70,80,90]])\n",
        "print(tensor.ndim)\n",
        "print(tensor.shape)\n"
      ],
      "metadata": {
        "colab": {
          "base_uri": "https://localhost:8080/"
        },
        "id": "bju-R-CrrXGf",
        "outputId": "1e42d3d1-fc15-4b9e-ae0d-8c68b8c346a8"
      },
      "execution_count": 7,
      "outputs": [
        {
          "output_type": "stream",
          "name": "stdout",
          "text": [
            "2\n",
            "torch.Size([3, 3])\n"
          ]
        }
      ]
    },
    {
      "cell_type": "code",
      "source": [
        "print(\"Element at(0,1):\",tensor[0,1])\n"
      ],
      "metadata": {
        "colab": {
          "base_uri": "https://localhost:8080/"
        },
        "id": "HyWPTe-Br0HL",
        "outputId": "36759222-df3c-4045-a5d3-86ea092ea017"
      },
      "execution_count": 8,
      "outputs": [
        {
          "output_type": "stream",
          "name": "stdout",
          "text": [
            "Element at(0,1): tensor(20)\n"
          ]
        }
      ]
    },
    {
      "cell_type": "code",
      "source": [
        "tensor[0]"
      ],
      "metadata": {
        "colab": {
          "base_uri": "https://localhost:8080/"
        },
        "id": "JB-7CcGFsAv2",
        "outputId": "8b141aff-7551-4881-e4d4-36752efabfa1"
      },
      "execution_count": 9,
      "outputs": [
        {
          "output_type": "execute_result",
          "data": {
            "text/plain": [
              "tensor([10, 20, 30])"
            ]
          },
          "metadata": {},
          "execution_count": 9
        }
      ]
    },
    {
      "cell_type": "code",
      "source": [
        "tensor[:,0]"
      ],
      "metadata": {
        "colab": {
          "base_uri": "https://localhost:8080/"
        },
        "id": "igX0RX4fsUTu",
        "outputId": "1ab89e4c-5fdd-4f80-e280-72306cd30699"
      },
      "execution_count": 10,
      "outputs": [
        {
          "output_type": "execute_result",
          "data": {
            "text/plain": [
              "tensor([10, 40, 70])"
            ]
          },
          "metadata": {},
          "execution_count": 10
        }
      ]
    },
    {
      "cell_type": "markdown",
      "source": [
        "# Texting\n"
      ],
      "metadata": {
        "id": "ig0SRIU-tPo2"
      }
    },
    {
      "cell_type": "markdown",
      "source": [],
      "metadata": {
        "id": "xl3vRd2ptVaS"
      }
    },
    {
      "cell_type": "code",
      "source": [
        "print(\"first two rows: \",tensor[:2])"
      ],
      "metadata": {
        "colab": {
          "base_uri": "https://localhost:8080/"
        },
        "id": "FcVtiMfEtaT6",
        "outputId": "01f95d79-f07b-494e-cefe-73ed8d81e779"
      },
      "execution_count": 13,
      "outputs": [
        {
          "output_type": "stream",
          "name": "stdout",
          "text": [
            "first two rows:  tensor([[10, 20, 30],\n",
            "        [40, 50, 60]])\n"
          ]
        }
      ]
    },
    {
      "cell_type": "code",
      "source": [
        "print(tensor)\n",
        "print(\"First two columns: \\n\",tensor[:, : 2])"
      ],
      "metadata": {
        "colab": {
          "base_uri": "https://localhost:8080/"
        },
        "id": "ypPJ_7GJt3a5",
        "outputId": "5320f7a4-0015-4850-b7b6-9aeb9401c29c"
      },
      "execution_count": 18,
      "outputs": [
        {
          "output_type": "stream",
          "name": "stdout",
          "text": [
            "tensor([[10, 20, 30],\n",
            "        [40, 50, 60],\n",
            "        [70, 80, 90]])\n",
            "First two columns: \n",
            " tensor([[10, 20],\n",
            "        [40, 50],\n",
            "        [70, 80]])\n"
          ]
        }
      ]
    },
    {
      "cell_type": "code",
      "source": [
        "#midddle element (rows1,column1 and 2 only)\n",
        "print(tensor[1,1:3])"
      ],
      "metadata": {
        "colab": {
          "base_uri": "https://localhost:8080/"
        },
        "id": "pF2WyCxguw0L",
        "outputId": "3d4ca49c-08c6-4ad2-dd22-d315518afd70"
      },
      "execution_count": 19,
      "outputs": [
        {
          "output_type": "stream",
          "name": "stdout",
          "text": [
            "tensor([50, 60])\n"
          ]
        }
      ]
    },
    {
      "cell_type": "code",
      "source": [
        "# fancy index\n",
        "#(0,1)-->20\n",
        "#(2,2)-->90\n",
        "selected_element=tensor[[0,2],[1,2]]\n",
        "print(selected_element)"
      ],
      "metadata": {
        "colab": {
          "base_uri": "https://localhost:8080/"
        },
        "id": "jQ-WuKa6vzxy",
        "outputId": "3d9f8ce4-c09c-42a8-c50e-44edc4f275c6"
      },
      "execution_count": 21,
      "outputs": [
        {
          "output_type": "stream",
          "name": "stdout",
          "text": [
            "tensor([20, 90])\n"
          ]
        }
      ]
    },
    {
      "cell_type": "code",
      "source": [
        "#boolean indexing\n",
        "mask=tensor >50\n",
        "print(mask)\n",
        "print(tensor[mask])"
      ],
      "metadata": {
        "colab": {
          "base_uri": "https://localhost:8080/"
        },
        "id": "ApQDGifOxCBn",
        "outputId": "f6d9f2b8-67cb-444d-d9c2-10611d1b97a4"
      },
      "execution_count": 23,
      "outputs": [
        {
          "output_type": "stream",
          "name": "stdout",
          "text": [
            "tensor([[False, False, False],\n",
            "        [False, False,  True],\n",
            "        [ True,  True,  True]])\n",
            "tensor([60, 70, 80, 90])\n"
          ]
        }
      ]
    },
    {
      "cell_type": "code",
      "source": [
        "# changing tensor values via inndexing\n",
        "tensor[:0]=torch.tensor([100,200,300])\n",
        "print(tensor)\n",
        "tensor[0,1]=25\n",
        "print(tensor)"
      ],
      "metadata": {
        "colab": {
          "base_uri": "https://localhost:8080/"
        },
        "id": "B0RcZ6wqxOCS",
        "outputId": "8de22adf-836c-4db9-c1b6-4662f27e81ac"
      },
      "execution_count": 25,
      "outputs": [
        {
          "output_type": "stream",
          "name": "stdout",
          "text": [
            "tensor([[10, 20, 30],\n",
            "        [40, 50, 60],\n",
            "        [70, 80, 90]])\n",
            "tensor([[10, 25, 30],\n",
            "        [40, 50, 60],\n",
            "        [70, 80, 90]])\n"
          ]
        }
      ]
    },
    {
      "cell_type": "code",
      "source": [
        "tensor[:,0]=torch.tensor([100,200,300])\n",
        "print(tensor)"
      ],
      "metadata": {
        "colab": {
          "base_uri": "https://localhost:8080/"
        },
        "id": "hdMgUOSA2iL4",
        "outputId": "ca43f3db-3ef4-482e-c651-b4df554e4b43"
      },
      "execution_count": 26,
      "outputs": [
        {
          "output_type": "stream",
          "name": "stdout",
          "text": [
            "tensor([[100,  25,  30],\n",
            "        [200,  50,  60],\n",
            "        [300,  80,  90]])\n"
          ]
        }
      ]
    },
    {
      "cell_type": "code",
      "source": [
        "indices=torch.tensor([0,2])\n",
        "selected_rows=torch.index_select(tensor,dim=1,index=indices)\n",
        "print(selected_rows)"
      ],
      "metadata": {
        "colab": {
          "base_uri": "https://localhost:8080/"
        },
        "id": "d4qNyLWK2-tF",
        "outputId": "245a75a2-f4f8-48c6-83cb-3228632822d6"
      },
      "execution_count": 28,
      "outputs": [
        {
          "output_type": "stream",
          "name": "stdout",
          "text": [
            "tensor([[100,  30],\n",
            "        [200,  60],\n",
            "        [300,  90]])\n"
          ]
        }
      ]
    },
    {
      "cell_type": "code",
      "source": [
        "# using tensor with steps\n",
        "print(tensor[:,::2])"
      ],
      "metadata": {
        "colab": {
          "base_uri": "https://localhost:8080/"
        },
        "id": "ldvk7VgK31Zk",
        "outputId": "4fcd49ca-112f-4017-ae1e-070d5c0ece9a"
      },
      "execution_count": 29,
      "outputs": [
        {
          "output_type": "stream",
          "name": "stdout",
          "text": [
            "tensor([[100,  30],\n",
            "        [200,  60],\n",
            "        [300,  90]])\n"
          ]
        }
      ]
    },
    {
      "cell_type": "code",
      "source": [
        "#print(tensor[::-1])\n",
        "torch.flip(tensor,dims=(0,))"
      ],
      "metadata": {
        "colab": {
          "base_uri": "https://localhost:8080/"
        },
        "id": "fI2ZpLhQ4NoR",
        "outputId": "b935340c-fe79-45fa-f281-2ee79f398313"
      },
      "execution_count": 30,
      "outputs": [
        {
          "output_type": "execute_result",
          "data": {
            "text/plain": [
              "tensor([[300,  80,  90],\n",
              "        [200,  50,  60],\n",
              "        [100,  25,  30]])"
            ]
          },
          "metadata": {},
          "execution_count": 30
        }
      ]
    }
  ]
}